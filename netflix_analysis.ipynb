Netflix Data Analysis by Mohamed Fawaz

import pandas as pd
import matplotlib.pyplot as plt
import seaborn as sns

# Load data
df = pd.read_csv('netflix_titles.csv')
df.head()

# Clean data
df.dropna(subset=['type', 'country', 'release_year', 'rating'], inplace=True)

# Show types count
type_counts = df['type'].value_counts()
type_counts.plot(kind='bar', color=['#ff4c4c', '#4caeff'])
plt.title('Count of Movies vs TV Shows')
plt.ylabel('Count')
plt.xlabel('Type')
plt.tight_layout()
plt.show()

# Country with most content
top_countries = df['country'].value_counts().head(10)
sns.barplot(y=top_countries.index, x=top_countries.values, palette='magma')
plt.title('Top 10 Countries with Most Netflix Content')
plt.xlabel('Number of Titles')
plt.ylabel('Country')
plt.tight_layout()
plt.show()

# Content release by year
content_by_year = df['release_year'].value_counts().sort_index()
plt.figure(figsize=(10,5))
sns.lineplot(x=content_by_year.index, y=content_by_year.values, color='green')
plt.title('Content Added Over the Years')
plt.xlabel('Year')
plt.ylabel('Number of Releases')
plt.tight_layout()
plt.show()

# Top genres (split by comma)
from collections import Counter

all_genres = ','.join(df['listed_in'].dropna()).split(',')
genre_count = Counter([g.strip() for g in all_genres])
top_genres = dict(sorted(genre_count.items(), key=lambda x: x[1], reverse=True)[:10])

plt.bar(top_genres.keys(), top_genres.values(), color='teal')
plt.xticks(rotation=45)
plt.title('Top 10 Genres on Netflix')
plt.ylabel('Count')
plt.tight_layout()
plt.show()
